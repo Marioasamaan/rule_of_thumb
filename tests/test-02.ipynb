{
 "cells": [
  {
   "cell_type": "code",
   "execution_count": 1,
   "metadata": {},
   "outputs": [
    {
     "name": "stdout",
     "output_type": "stream",
     "text": [
      "Rules of Thumb package loaded-mumy is here!\n",
      "Section is doubly reinforced section\n",
      "\u001b[4mSECTION ANALYSIS :\u001b[0m\n",
      "- flang width b = 6 inch\n",
      "- Calculated depth of the stress block a =4.9 in\n",
      "- Calculated (a,c) value = (4.901960784313726, 7.541478129713424) inches\n",
      "- Section is Rectangular T-Section and Compression force is entirely in the flange\n",
      "- Calculated Compressive force in concrete C_c =100000.0 , lever arm is d-(a/2) and moment is M_c =1754901.9607843135\n",
      "\u001b[93m- Compression steel did not yield. Strain = 0.002204 (< 1.724138)\u001b[0m\n",
      "New Value of C = 7.536658156535283 , New Value of C_c = 199872.1743113157, \n",
      "- Calculated steel_force_tension = 200000 kips\n",
      "- Calculated steel force compression = 127.8552 kips\n",
      "- Tensile steel moment contribution = 3509803.921568627 in-kip\n",
      "- Compression Steel Moment contributio n =  2301.3936kip.ft,3510175.1976702726\n",
      "- Section forces balanced with 0.02951131568988785 unbalanced force \n",
      "\n",
      "\u001b[1m\u001b[3m- Section Nominal Moment capacity =  3510175.1976702726 in-kip = 292514.59980585607 ft-kip \u001b[0m\n",
      "\n",
      "\u001b[4mSTRAIN ANALYSIS :\u001b[0m\n",
      "\u001b[93m- ACI strain limit was Not met\u001b[0m\n",
      "\u001b[93m- Tension steel did not yield, strain = 0.004961 (< 1.724138)\u001b[0m\n",
      "Compression-controlled region , phi =0.65 \n",
      "- calculated phi = 0.65\n",
      "\u001b[1m\u001b[3m- Calculated section Capacity phi_Mn = 190134.49 ft-kip\u001b[0m\n",
      "Minimum steel area (As_min): 0.03 square inches\n",
      "{'section_type': 'T-section', 'bf': 6, 'phi': 0.65, 'Mn': 3510175.1976702726, 'c': 7.536658156535283, 'e_t': 0.004961088157882289, 'steel_sufficient': True, 'As_min': 0.027}\n",
      "Section is doubly reinforced section\n",
      "\u001b[4mSECTION ANALYSIS :\u001b[0m\n",
      "- flang width b = 6 inch\n",
      "- Calculated depth of the stress block a =4.9 in\n",
      "- Calculated (a,c) value = (4.901960784313726, 7.541478129713424) inches\n",
      "- Section is Rectangular T-Section and Compression force is entirely in the flange\n",
      "- Calculated Compressive force in concrete C_c =100000.0 , lever arm is d-(a/2) and moment is M_c =1754901.9607843135\n",
      "\u001b[93m- Compression steel did not yield. Strain = 0.002204 (< 1.724138)\u001b[0m\n",
      "New Value of C = 7.536658156535283 , New Value of C_c = 199872.1743113157, \n",
      "- Calculated steel_force_tension = 200000 kips\n",
      "- Calculated steel force compression = 127.8552 kips\n",
      "- Tensile steel moment contribution = 3509803.921568627 in-kip\n",
      "- Compression Steel Moment contributio n =  2301.3936kip.ft,3510175.1976702726\n",
      "- Section forces balanced with 0.02951131568988785 unbalanced force \n",
      "\n",
      "\u001b[1m\u001b[3m- Section Nominal Moment capacity =  3510175.1976702726 in-kip = 292514.59980585607 ft-kip \u001b[0m\n",
      "\n",
      "\u001b[4mSTRAIN ANALYSIS :\u001b[0m\n",
      "\u001b[93m- ACI strain limit was Not met\u001b[0m\n",
      "\u001b[93m- Tension steel did not yield, strain = 0.004961 (< 1.724138)\u001b[0m\n",
      "Compression-controlled region , phi =0.65 \n",
      "- calculated phi = 0.65\n",
      "\u001b[1m\u001b[3m- Calculated section Capacity phi_Mn = 190134.49 ft-kip\u001b[0m\n",
      "Minimum steel area (As_min): 0.03 square inches\n",
      "{'section_type': 'T-section', 'bf': 6, 'phi': 0.65, 'Mn': 3510175.1976702726, 'c': 7.536658156535283, 'e_t': 0.004961088157882289, 'steel_sufficient': True, 'As_min': 0.027}\n"
     ]
    }
   ],
   "source": [
    "from rule_of_thumb.dsg_bm_aci import analyze_section\n",
    "result = analyze_section(\n",
    "    b=12, h=24, d=20, As=4, fck=4000, fyk=50000,\n",
    "    bw=10, hf=6, l=15, s=6, As_prime=2, d_prime=2\n",
    ")\n",
    "print(result)\n"
   ]
  },
  {
   "cell_type": "code",
   "execution_count": null,
   "metadata": {},
   "outputs": [],
   "source": []
  }
 ],
 "metadata": {
  "kernelspec": {
   "display_name": "steel_design_M",
   "language": "python",
   "name": "python3"
  },
  "language_info": {
   "codemirror_mode": {
    "name": "ipython",
    "version": 3
   },
   "file_extension": ".py",
   "mimetype": "text/x-python",
   "name": "python",
   "nbconvert_exporter": "python",
   "pygments_lexer": "ipython3",
   "version": "3.9.21"
  }
 },
 "nbformat": 4,
 "nbformat_minor": 2
}
